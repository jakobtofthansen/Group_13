{
 "cells": [
  {
   "cell_type": "code",
   "execution_count": 183,
   "metadata": {},
   "outputs": [],
   "source": [
    "import csv\n",
    "import pandas as pd"
   ]
  },
  {
   "cell_type": "code",
   "execution_count": null,
   "metadata": {},
   "outputs": [],
   "source": []
  },
  {
   "cell_type": "code",
   "execution_count": 184,
   "metadata": {},
   "outputs": [],
   "source": [
    "# # Deleting rows with NaN and duplicates \n",
    "# trip_sorted = trip_sorted.dropna()\n",
    "# trip_sorted.drop_duplicates(subset =\"name\"\n",
    "#                             , inplace = True) #\n",
    "\n",
    "trip_sorted = pd.read_csv(r'/Users/KaiyueXu/Desktop/test.csv')\n",
    "\n",
    "# Deletes the thousand separator in order to make the d.object into an integer. \n",
    "trip_sorted = trip_sorted.astype(str).apply(lambda x: x.str.replace('.',''))\n",
    "\n",
    "# Replaces the comma with a dot in order to make the d.object into a float\n",
    "trip_sorted = trip_sorted.astype(str).apply(lambda x: x.str.replace(',','.'))"
   ]
  },
  {
   "cell_type": "code",
   "execution_count": 185,
   "metadata": {},
   "outputs": [],
   "source": [
    "# Extracts the number from reviews count and stores it in another column as an integer\n",
    "trip_sorted['reviews int'] = trip_sorted['review'].str.extract('(\\d+)').astype(int)\n",
    "#trip_sorted['bubbles int'] = trip_sorted['bubble'].str.extract('(\\d+)').astype(float)\n",
    "\n",
    "# Creates a new column with the rating by deleting the sentence \"ud af 5 bobler\"\n",
    "trip_sorted['bubbles int'] = trip_sorted['bubble'].replace(to_replace = r' ud af 5 bobler', value = '', regex=True)\n",
    "\n",
    "# Converts the rating-column into a float in order to sort on this later.\n",
    "trip_sorted['bubbles int'] = trip_sorted['bubbles int'].astype(str).astype(float)"
   ]
  },
  {
   "cell_type": "code",
   "execution_count": 186,
   "metadata": {},
   "outputs": [
    {
     "data": {
      "text/html": [
       "<div>\n",
       "<style scoped>\n",
       "    .dataframe tbody tr th:only-of-type {\n",
       "        vertical-align: middle;\n",
       "    }\n",
       "\n",
       "    .dataframe tbody tr th {\n",
       "        vertical-align: top;\n",
       "    }\n",
       "\n",
       "    .dataframe thead th {\n",
       "        text-align: right;\n",
       "    }\n",
       "</style>\n",
       "<table border=\"1\" class=\"dataframe\">\n",
       "  <thead>\n",
       "    <tr style=\"text-align: right;\">\n",
       "      <th></th>\n",
       "      <th>name</th>\n",
       "      <th>bubble</th>\n",
       "      <th>review</th>\n",
       "      <th>reviews int</th>\n",
       "      <th>bubbles int</th>\n",
       "    </tr>\n",
       "  </thead>\n",
       "  <tbody>\n",
       "    <tr>\n",
       "      <th>52</th>\n",
       "      <td>Restaurant Tight</td>\n",
       "      <td>4.5 ud af 5 bobler</td>\n",
       "      <td>2862 anmeldelser</td>\n",
       "      <td>2862</td>\n",
       "      <td>4.5</td>\n",
       "    </tr>\n",
       "    <tr>\n",
       "      <th>143</th>\n",
       "      <td>Kodbyens Fiskebar</td>\n",
       "      <td>4 ud af 5 bobler</td>\n",
       "      <td>2417 anmeldelser</td>\n",
       "      <td>2417</td>\n",
       "      <td>4.0</td>\n",
       "    </tr>\n",
       "    <tr>\n",
       "      <th>3</th>\n",
       "      <td>The Olive Kitchen &amp; Bar</td>\n",
       "      <td>5 ud af 5 bobler</td>\n",
       "      <td>2135 anmeldelser</td>\n",
       "      <td>2135</td>\n",
       "      <td>5.0</td>\n",
       "    </tr>\n",
       "    <tr>\n",
       "      <th>41</th>\n",
       "      <td>Höst</td>\n",
       "      <td>4.5 ud af 5 bobler</td>\n",
       "      <td>2021 anmeldelser</td>\n",
       "      <td>2021</td>\n",
       "      <td>4.5</td>\n",
       "    </tr>\n",
       "    <tr>\n",
       "      <th>422</th>\n",
       "      <td>Mother</td>\n",
       "      <td>3.5 ud af 5 bobler</td>\n",
       "      <td>1919 anmeldelser</td>\n",
       "      <td>1919</td>\n",
       "      <td>3.5</td>\n",
       "    </tr>\n",
       "  </tbody>\n",
       "</table>\n",
       "</div>"
      ],
      "text/plain": [
       "                        name              bubble            review  \\\n",
       "52          Restaurant Tight  4.5 ud af 5 bobler  2862 anmeldelser   \n",
       "143        Kodbyens Fiskebar    4 ud af 5 bobler  2417 anmeldelser   \n",
       "3    The Olive Kitchen & Bar    5 ud af 5 bobler  2135 anmeldelser   \n",
       "41                      Höst  4.5 ud af 5 bobler  2021 anmeldelser   \n",
       "422                   Mother  3.5 ud af 5 bobler  1919 anmeldelser   \n",
       "\n",
       "     reviews int  bubbles int  \n",
       "52          2862          4.5  \n",
       "143         2417          4.0  \n",
       "3           2135          5.0  \n",
       "41          2021          4.5  \n",
       "422         1919          3.5  "
      ]
     },
     "execution_count": 186,
     "metadata": {},
     "output_type": "execute_result"
    }
   ],
   "source": [
    "# Sorts the data on reviews count\n",
    "trip_rank = trip_sorted.sort_values(by = ['reviews int'], ascending = False).drop(['Unnamed: 0', 'Unnamed: 0.1'], axis=1).head(5)\n",
    "trip_rank"
   ]
  },
  {
   "cell_type": "code",
   "execution_count": 198,
   "metadata": {},
   "outputs": [
    {
     "data": {
      "image/png": "[encoded data removed]",
      "text/plain": [
       "<Figure size 432x288 with 1 Axes>"
      ]
     },
     "metadata": {
      "needs_background": "light"
     },
     "output_type": "display_data"
    }
   ],
   "source": [
    "import matplotlib.pyplot as plt\n",
    "\n",
    "Reviews = [1919,2021,2135,2417,2826]\n",
    "\n",
    "x = ['Mother','Höst','The Olive Kitchen &Bar','Kodbyens Fiskebar','Restaurant Tight']\n",
    "\n",
    "plt.barh(range(5), Reviews, 0.4,color='b', alpha = 0.8)\n",
    "\n",
    "plt.ylabel('Restaurant')\n",
    "\n",
    "plt.xlabel('Reviews')\n",
    "\n",
    "plt.title('Top 5 most reviews restaurants')\n",
    "\n",
    "plt.yticks(range(5),['Mother','Höst','The Olive Kitchen &Bar','Kodbyens Fiskebar','Restaurant Tight'])\n",
    "\n",
    "plt.xlim([1500,3000])\n",
    "\n",
    "\n",
    "for x,y in enumerate(Reviews):\n",
    "    plt.text(y+0.2,x,'%s' %y,va='center')\n",
    "\n",
    "plt.show()"
   ]
  },
  {
   "cell_type": "code",
   "execution_count": null,
   "metadata": {},
   "outputs": [],
   "source": []
  },
  {
   "cell_type": "code",
   "execution_count": null,
   "metadata": {},
   "outputs": [],
   "source": []
  }
 ],
 "metadata": {
  "kernelspec": {
   "display_name": "Python 3",
   "language": "python",
   "name": "python3"
  },
  "language_info": {
   "codemirror_mode": {
    "name": "ipython",
    "version": 3
   },
   "file_extension": ".py",
   "mimetype": "text/x-python",
   "name": "python",
   "nbconvert_exporter": "python",
   "pygments_lexer": "ipython3",
   "version": "3.7.3"
  }
 },
 "nbformat": 4,
 "nbformat_minor": 2
}
