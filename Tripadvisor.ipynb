{
 "cells": [
  {
   "cell_type": "code",
   "execution_count": 41,
   "metadata": {},
   "outputs": [],
   "source": [
    "import requests             \n",
    "from bs4 import BeautifulSoup \n",
    "import csv                  \n",
    "import webbrowser\n",
    "import io"
   ]
  },
  {
   "cell_type": "code",
   "execution_count": null,
   "metadata": {},
   "outputs": [],
   "source": []
  },
  {
   "cell_type": "code",
   "execution_count": null,
   "metadata": {},
   "outputs": [],
   "source": []
  },
  {
   "cell_type": "code",
   "execution_count": 64,
   "metadata": {},
   "outputs": [
    {
     "data": {
      "text/plain": [
       "[0,\n",
       " 30,\n",
       " 60,\n",
       " 90,\n",
       " 120,\n",
       " 150,\n",
       " 180,\n",
       " 210,\n",
       " 240,\n",
       " 270,\n",
       " 300,\n",
       " 330,\n",
       " 360,\n",
       " 390,\n",
       " 420,\n",
       " 450,\n",
       " 480,\n",
       " 510,\n",
       " 540,\n",
       " 570,\n",
       " 600,\n",
       " 630,\n",
       " 660,\n",
       " 690,\n",
       " 720,\n",
       " 750,\n",
       " 780,\n",
       " 810,\n",
       " 840,\n",
       " 870,\n",
       " 900,\n",
       " 930,\n",
       " 960,\n",
       " 990,\n",
       " 1020,\n",
       " 1050,\n",
       " 1080,\n",
       " 1110,\n",
       " 1140,\n",
       " 1170,\n",
       " 1200,\n",
       " 1230,\n",
       " 1260,\n",
       " 1290,\n",
       " 1320,\n",
       " 1350,\n",
       " 1380,\n",
       " 1410,\n",
       " 1440,\n",
       " 1470,\n",
       " 1500,\n",
       " 1530,\n",
       " 1560,\n",
       " 1590,\n",
       " 1620,\n",
       " 1650,\n",
       " 1680,\n",
       " 1710,\n",
       " 1740,\n",
       " 1770,\n",
       " 1800,\n",
       " 1830,\n",
       " 1860,\n",
       " 1890,\n",
       " 1920,\n",
       " 1950,\n",
       " 1980,\n",
       " 2010,\n",
       " 2040,\n",
       " 2070,\n",
       " 2100,\n",
       " 2130,\n",
       " 2160,\n",
       " 2190,\n",
       " 2220,\n",
       " 2250,\n",
       " 2280,\n",
       " 2310]"
      ]
     },
     "execution_count": 64,
     "metadata": {},
     "output_type": "execute_result"
    }
   ],
   "source": [
    "\n",
    "\n",
    "list(range(0, 30*78, 30))"
   ]
  },
  {
   "cell_type": "code",
   "execution_count": 69,
   "metadata": {},
   "outputs": [
    {
     "name": "stdout",
     "output_type": "stream",
     "text": [
      "['https://www.tripadvisor.dk/Restaurants-g189541-oa0-Copenhagen_Zealand.html', 'https://www.tripadvisor.dk/Restaurants-g189541-oa30-Copenhagen_Zealand.html', 'https://www.tripadvisor.dk/Restaurants-g189541-oa60-Copenhagen_Zealand.html', 'https://www.tripadvisor.dk/Restaurants-g189541-oa90-Copenhagen_Zealand.html', 'https://www.tripadvisor.dk/Restaurants-g189541-oa120-Copenhagen_Zealand.html', 'https://www.tripadvisor.dk/Restaurants-g189541-oa150-Copenhagen_Zealand.html', 'https://www.tripadvisor.dk/Restaurants-g189541-oa180-Copenhagen_Zealand.html', 'https://www.tripadvisor.dk/Restaurants-g189541-oa210-Copenhagen_Zealand.html', 'https://www.tripadvisor.dk/Restaurants-g189541-oa240-Copenhagen_Zealand.html', 'https://www.tripadvisor.dk/Restaurants-g189541-oa270-Copenhagen_Zealand.html', 'https://www.tripadvisor.dk/Restaurants-g189541-oa300-Copenhagen_Zealand.html', 'https://www.tripadvisor.dk/Restaurants-g189541-oa330-Copenhagen_Zealand.html', 'https://www.tripadvisor.dk/Restaurants-g189541-oa360-Copenhagen_Zealand.html', 'https://www.tripadvisor.dk/Restaurants-g189541-oa390-Copenhagen_Zealand.html', 'https://www.tripadvisor.dk/Restaurants-g189541-oa420-Copenhagen_Zealand.html', 'https://www.tripadvisor.dk/Restaurants-g189541-oa450-Copenhagen_Zealand.html', 'https://www.tripadvisor.dk/Restaurants-g189541-oa480-Copenhagen_Zealand.html', 'https://www.tripadvisor.dk/Restaurants-g189541-oa510-Copenhagen_Zealand.html', 'https://www.tripadvisor.dk/Restaurants-g189541-oa540-Copenhagen_Zealand.html', 'https://www.tripadvisor.dk/Restaurants-g189541-oa570-Copenhagen_Zealand.html', 'https://www.tripadvisor.dk/Restaurants-g189541-oa600-Copenhagen_Zealand.html', 'https://www.tripadvisor.dk/Restaurants-g189541-oa630-Copenhagen_Zealand.html', 'https://www.tripadvisor.dk/Restaurants-g189541-oa660-Copenhagen_Zealand.html', 'https://www.tripadvisor.dk/Restaurants-g189541-oa690-Copenhagen_Zealand.html', 'https://www.tripadvisor.dk/Restaurants-g189541-oa720-Copenhagen_Zealand.html', 'https://www.tripadvisor.dk/Restaurants-g189541-oa750-Copenhagen_Zealand.html', 'https://www.tripadvisor.dk/Restaurants-g189541-oa780-Copenhagen_Zealand.html', 'https://www.tripadvisor.dk/Restaurants-g189541-oa810-Copenhagen_Zealand.html', 'https://www.tripadvisor.dk/Restaurants-g189541-oa840-Copenhagen_Zealand.html', 'https://www.tripadvisor.dk/Restaurants-g189541-oa870-Copenhagen_Zealand.html', 'https://www.tripadvisor.dk/Restaurants-g189541-oa900-Copenhagen_Zealand.html', 'https://www.tripadvisor.dk/Restaurants-g189541-oa930-Copenhagen_Zealand.html', 'https://www.tripadvisor.dk/Restaurants-g189541-oa960-Copenhagen_Zealand.html', 'https://www.tripadvisor.dk/Restaurants-g189541-oa990-Copenhagen_Zealand.html', 'https://www.tripadvisor.dk/Restaurants-g189541-oa1020-Copenhagen_Zealand.html', 'https://www.tripadvisor.dk/Restaurants-g189541-oa1050-Copenhagen_Zealand.html', 'https://www.tripadvisor.dk/Restaurants-g189541-oa1080-Copenhagen_Zealand.html', 'https://www.tripadvisor.dk/Restaurants-g189541-oa1110-Copenhagen_Zealand.html', 'https://www.tripadvisor.dk/Restaurants-g189541-oa1140-Copenhagen_Zealand.html', 'https://www.tripadvisor.dk/Restaurants-g189541-oa1170-Copenhagen_Zealand.html', 'https://www.tripadvisor.dk/Restaurants-g189541-oa1200-Copenhagen_Zealand.html', 'https://www.tripadvisor.dk/Restaurants-g189541-oa1230-Copenhagen_Zealand.html', 'https://www.tripadvisor.dk/Restaurants-g189541-oa1260-Copenhagen_Zealand.html', 'https://www.tripadvisor.dk/Restaurants-g189541-oa1290-Copenhagen_Zealand.html', 'https://www.tripadvisor.dk/Restaurants-g189541-oa1320-Copenhagen_Zealand.html', 'https://www.tripadvisor.dk/Restaurants-g189541-oa1350-Copenhagen_Zealand.html', 'https://www.tripadvisor.dk/Restaurants-g189541-oa1380-Copenhagen_Zealand.html', 'https://www.tripadvisor.dk/Restaurants-g189541-oa1410-Copenhagen_Zealand.html', 'https://www.tripadvisor.dk/Restaurants-g189541-oa1440-Copenhagen_Zealand.html', 'https://www.tripadvisor.dk/Restaurants-g189541-oa1470-Copenhagen_Zealand.html', 'https://www.tripadvisor.dk/Restaurants-g189541-oa1500-Copenhagen_Zealand.html', 'https://www.tripadvisor.dk/Restaurants-g189541-oa1530-Copenhagen_Zealand.html', 'https://www.tripadvisor.dk/Restaurants-g189541-oa1560-Copenhagen_Zealand.html', 'https://www.tripadvisor.dk/Restaurants-g189541-oa1590-Copenhagen_Zealand.html', 'https://www.tripadvisor.dk/Restaurants-g189541-oa1620-Copenhagen_Zealand.html', 'https://www.tripadvisor.dk/Restaurants-g189541-oa1650-Copenhagen_Zealand.html', 'https://www.tripadvisor.dk/Restaurants-g189541-oa1680-Copenhagen_Zealand.html', 'https://www.tripadvisor.dk/Restaurants-g189541-oa1710-Copenhagen_Zealand.html', 'https://www.tripadvisor.dk/Restaurants-g189541-oa1740-Copenhagen_Zealand.html', 'https://www.tripadvisor.dk/Restaurants-g189541-oa1770-Copenhagen_Zealand.html', 'https://www.tripadvisor.dk/Restaurants-g189541-oa1800-Copenhagen_Zealand.html', 'https://www.tripadvisor.dk/Restaurants-g189541-oa1830-Copenhagen_Zealand.html', 'https://www.tripadvisor.dk/Restaurants-g189541-oa1860-Copenhagen_Zealand.html', 'https://www.tripadvisor.dk/Restaurants-g189541-oa1890-Copenhagen_Zealand.html', 'https://www.tripadvisor.dk/Restaurants-g189541-oa1920-Copenhagen_Zealand.html', 'https://www.tripadvisor.dk/Restaurants-g189541-oa1950-Copenhagen_Zealand.html', 'https://www.tripadvisor.dk/Restaurants-g189541-oa1980-Copenhagen_Zealand.html', 'https://www.tripadvisor.dk/Restaurants-g189541-oa2010-Copenhagen_Zealand.html', 'https://www.tripadvisor.dk/Restaurants-g189541-oa2040-Copenhagen_Zealand.html', 'https://www.tripadvisor.dk/Restaurants-g189541-oa2070-Copenhagen_Zealand.html', 'https://www.tripadvisor.dk/Restaurants-g189541-oa2100-Copenhagen_Zealand.html', 'https://www.tripadvisor.dk/Restaurants-g189541-oa2130-Copenhagen_Zealand.html', 'https://www.tripadvisor.dk/Restaurants-g189541-oa2160-Copenhagen_Zealand.html', 'https://www.tripadvisor.dk/Restaurants-g189541-oa2190-Copenhagen_Zealand.html', 'https://www.tripadvisor.dk/Restaurants-g189541-oa2220-Copenhagen_Zealand.html', 'https://www.tripadvisor.dk/Restaurants-g189541-oa2250-Copenhagen_Zealand.html', 'https://www.tripadvisor.dk/Restaurants-g189541-oa2280-Copenhagen_Zealand.html', 'https://www.tripadvisor.dk/Restaurants-g189541-oa2310-Copenhagen_Zealand.html']\n"
     ]
    }
   ],
   "source": [
    "import time\n",
    "\n",
    "\n",
    "listen = []\n",
    "\n",
    "for nummer in list(range(0, 30*78, 30)):\n",
    "    time.sleep(1)\n",
    "    url_nr = 'https://www.tripadvisor.dk/Restaurants-g189541-oa{}-Copenhagen_Zealand.html'.format(nummer)\n",
    "    listen.append(url_nr)\n",
    "    \n",
    "    \n",
    "print(listen)"
   ]
  },
  {
   "cell_type": "code",
   "execution_count": 80,
   "metadata": {},
   "outputs": [
    {
     "ename": "TypeError",
     "evalue": "append() takes exactly one argument (3 given)",
     "output_type": "error",
     "traceback": [
      "\u001b[1;31m---------------------------------------------------------------------------\u001b[0m",
      "\u001b[1;31mTypeError\u001b[0m                                 Traceback (most recent call last)",
      "\u001b[1;32m<ipython-input-80-bad023058dce>\u001b[0m in \u001b[0;36m<module>\u001b[1;34m\u001b[0m\n\u001b[0;32m     21\u001b[0m \u001b[1;32mif\u001b[0m \u001b[0m__name__\u001b[0m \u001b[1;33m==\u001b[0m \u001b[1;34m'__main__'\u001b[0m\u001b[1;33m:\u001b[0m\u001b[1;33m\u001b[0m\u001b[1;33m\u001b[0m\u001b[0m\n\u001b[0;32m     22\u001b[0m     \u001b[1;32mfor\u001b[0m \u001b[0mlink\u001b[0m \u001b[1;32min\u001b[0m \u001b[0mlisten\u001b[0m\u001b[1;33m:\u001b[0m\u001b[1;33m\u001b[0m\u001b[1;33m\u001b[0m\u001b[0m\n\u001b[1;32m---> 23\u001b[1;33m         \u001b[0mdf\u001b[0m \u001b[1;33m=\u001b[0m \u001b[0mget_info\u001b[0m\u001b[1;33m(\u001b[0m\u001b[0mlink\u001b[0m\u001b[1;33m)\u001b[0m\u001b[1;33m\u001b[0m\u001b[1;33m\u001b[0m\u001b[0m\n\u001b[0m\u001b[0;32m     24\u001b[0m         \u001b[0mdf\u001b[0m\u001b[1;33m\u001b[0m\u001b[1;33m\u001b[0m\u001b[0m\n\u001b[0;32m     25\u001b[0m \u001b[1;33m\u001b[0m\u001b[0m\n",
      "\u001b[1;32m<ipython-input-80-bad023058dce>\u001b[0m in \u001b[0;36mget_info\u001b[1;34m(link)\u001b[0m\n\u001b[0;32m     16\u001b[0m         \u001b[0mbubble\u001b[0m \u001b[1;33m=\u001b[0m \u001b[0mitems\u001b[0m\u001b[1;33m.\u001b[0m\u001b[0mfind\u001b[0m\u001b[1;33m(\u001b[0m\u001b[0mclass_\u001b[0m\u001b[1;33m=\u001b[0m\u001b[1;34m\"ui_bubble_rating\"\u001b[0m\u001b[1;33m)\u001b[0m\u001b[1;33m.\u001b[0m\u001b[0mget\u001b[0m\u001b[1;33m(\u001b[0m\u001b[1;34m\"alt\"\u001b[0m\u001b[1;33m)\u001b[0m\u001b[1;33m\u001b[0m\u001b[1;33m\u001b[0m\u001b[0m\n\u001b[0;32m     17\u001b[0m         \u001b[0mreview\u001b[0m \u001b[1;33m=\u001b[0m \u001b[0mitems\u001b[0m\u001b[1;33m.\u001b[0m\u001b[0mfind\u001b[0m\u001b[1;33m(\u001b[0m\u001b[0mclass_\u001b[0m\u001b[1;33m=\u001b[0m\u001b[1;34m\"reviewCount\"\u001b[0m\u001b[1;33m)\u001b[0m\u001b[1;33m.\u001b[0m\u001b[0mget_text\u001b[0m\u001b[1;33m(\u001b[0m\u001b[0mstrip\u001b[0m\u001b[1;33m=\u001b[0m\u001b[1;32mTrue\u001b[0m\u001b[1;33m)\u001b[0m\u001b[1;33m\u001b[0m\u001b[1;33m\u001b[0m\u001b[0m\n\u001b[1;32m---> 18\u001b[1;33m         \u001b[0mrestaurent\u001b[0m\u001b[1;33m.\u001b[0m\u001b[0mappend\u001b[0m\u001b[1;33m(\u001b[0m\u001b[0mname\u001b[0m\u001b[1;33m,\u001b[0m\u001b[0mbubble\u001b[0m\u001b[1;33m,\u001b[0m\u001b[0mreview\u001b[0m\u001b[1;33m)\u001b[0m\u001b[1;33m\u001b[0m\u001b[1;33m\u001b[0m\u001b[0m\n\u001b[0m\u001b[0;32m     19\u001b[0m         \u001b[1;32mreturn\u001b[0m \u001b[0mrestaurent\u001b[0m\u001b[1;33m\u001b[0m\u001b[1;33m\u001b[0m\u001b[0m\n\u001b[0;32m     20\u001b[0m \u001b[1;33m\u001b[0m\u001b[0m\n",
      "\u001b[1;31mTypeError\u001b[0m: append() takes exactly one argument (3 given)"
     ]
    }
   ],
   "source": [
    "from bs4 import BeautifulSoup\n",
    "import urllib.request\n",
    "import pandas as pd\n",
    "\n",
    "URL = \"https://www.tripadvisor.dk/Tourism-g189541-Copenhagen_Zealand-Vacations.html\"\n",
    "\n",
    "urls = 'https://www.tripadvisor.dk/Restaurants-g189541-Copenhagen_Zealand.html'\n",
    "\n",
    "restaurent = []\n",
    "\n",
    "def get_info(link):\n",
    "    response = urllib.request.urlopen(link)\n",
    "    soup = BeautifulSoup(response.read(),\"lxml\")\n",
    "    for items in soup.find_all(class_=\"shortSellDetails\"):\n",
    "        name = items.find(class_=\"property_title\").get_text(strip=True)\n",
    "        bubble = items.find(class_=\"ui_bubble_rating\").get(\"alt\")\n",
    "        review = items.find(class_=\"reviewCount\").get_text(strip=True)\n",
    "        restaurent.append(name,bubble,review)\n",
    "        return restaurent\n",
    "\n",
    "if __name__ == '__main__':\n",
    "    for link in listen:\n",
    "        df = get_info(link)\n",
    "        df\n",
    "    \n",
    "data = pd.DataFrame(df)"
   ]
  },
  {
   "cell_type": "code",
   "execution_count": 79,
   "metadata": {},
   "outputs": [
    {
     "name": "stdout",
     "output_type": "stream",
     "text": [
      "None\n"
     ]
    }
   ],
   "source": [
    "print(data)"
   ]
  },
  {
   "cell_type": "code",
   "execution_count": null,
   "metadata": {},
   "outputs": [],
   "source": []
  },
  {
   "cell_type": "code",
   "execution_count": null,
   "metadata": {},
   "outputs": [],
   "source": []
  }
 ],
 "metadata": {
  "kernelspec": {
   "display_name": "Python 3",
   "language": "python",
   "name": "python3"
  },
  "language_info": {
   "codemirror_mode": {
    "name": "ipython",
    "version": 3
   },
   "file_extension": ".py",
   "mimetype": "text/x-python",
   "name": "python",
   "nbconvert_exporter": "python",
   "pygments_lexer": "ipython3",
   "version": "3.7.3"
  }
 },
 "nbformat": 4,
 "nbformat_minor": 2
}
